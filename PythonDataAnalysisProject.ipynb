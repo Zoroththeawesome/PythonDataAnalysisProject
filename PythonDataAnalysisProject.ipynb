{
 "cells": [
  {
   "cell_type": "markdown",
   "id": "99994eef",
   "metadata": {},
   "source": [
    "# Time spent on project\n",
    "(Hours rounded up)\n",
    "\n",
    "July 28th, 2022: 6hr: class introduction + text study\n",
    "\n",
    "July 29th, 2022: 4hr: text study + YouTube study + building project (Basics met)\n",
    "\n",
    "July 30th, 2022: 5hr: YouTube study + building project \n",
    "\n",
    "Time spent building: 9hr\n",
    "\n",
    "Total time spent: 15\n",
    "\n",
    "Video filmed and project turned in on: July 30th, 2022\n",
    "\n",
    "Project due date: August 11th, 2022\n",
    "\n",
    "Along the way learned the bare basics of Regex and of the existance of matplotlib. Neither used in this project."
   ]
  },
  {
   "cell_type": "markdown",
   "id": "1b644b55",
   "metadata": {},
   "source": [
    "# Instructions\n",
    "Write the code and document your steps in a Jupyter notebook to accomplish the following:\n",
    "\n",
    "a. Load your data\n",
    "\n",
    "b. Clean your data for analysis and get it into DataFrames\n",
    "\n",
    "c. Demonstrate the following in your notebook:\n",
    "   * Ability to index DataFrames : .loc(rowstart:rowend, ['column name', 'extra']) or .iloc()\n",
    "   * Ability to view column headers, first n rows, and last n rows in a DataFrame : .head() .tail()\n",
    "   * Ability to select specific data points from a DataFrame\n",
    "   * Ability to sort DataFrames\n",
    "   * Ability to summarize DataFrames using GroupBy\n",
    "   * Ability to run basic descriptive statistics on a DataFrame\n",
    "   * Ability to build a basic chart with DataFrames with plot()\n",
    "d. Run a basic data analysis to find at least two interesting insights and describe why they are useful\n",
    "\n",
    "e. You should call out the code that produces these insights, as well as a visual representation of the insights (visualization, table, number, etc.)\n",
    "\n",
    "f. You should use comments/markup to describe the insight and why it’s important directly in the Jupyter Notebook\n"
   ]
  },
  {
   "cell_type": "code",
   "execution_count": 4,
   "id": "b5aa2dbb",
   "metadata": {},
   "outputs": [],
   "source": [
    "import numpy as np\n",
    "import pandas as pd"
   ]
  },
  {
   "cell_type": "markdown",
   "id": "7a511830",
   "metadata": {},
   "source": [
    "What if the data was in another format?\n",
    "Excel format:\n",
    "``` python\n",
    "df = pd.read_excel(\"ds_salaries.xlsx\")\n",
    "```\n",
    "Tab (or other) separated file:\n",
    "```python\n",
    "df = pd.read_csv(\"ds_salaries.csv\", delimiter = '\\t')\n",
    "```"
   ]
  },
  {
   "cell_type": "code",
   "execution_count": 17,
   "id": "a7aab21f",
   "metadata": {
    "scrolled": false
   },
   "outputs": [
    {
     "data": {
      "text/html": [
       "<div>\n",
       "<style scoped>\n",
       "    .dataframe tbody tr th:only-of-type {\n",
       "        vertical-align: middle;\n",
       "    }\n",
       "\n",
       "    .dataframe tbody tr th {\n",
       "        vertical-align: top;\n",
       "    }\n",
       "\n",
       "    .dataframe thead th {\n",
       "        text-align: right;\n",
       "    }\n",
       "</style>\n",
       "<table border=\"1\" class=\"dataframe\">\n",
       "  <thead>\n",
       "    <tr style=\"text-align: right;\">\n",
       "      <th></th>\n",
       "      <th>work_year</th>\n",
       "      <th>experience_level</th>\n",
       "      <th>employment_type</th>\n",
       "      <th>job_title</th>\n",
       "      <th>salary</th>\n",
       "      <th>salary_currency</th>\n",
       "      <th>salary_in_usd</th>\n",
       "      <th>employee_residence</th>\n",
       "      <th>remote_ratio</th>\n",
       "      <th>company_location</th>\n",
       "      <th>company_size</th>\n",
       "    </tr>\n",
       "  </thead>\n",
       "  <tbody>\n",
       "    <tr>\n",
       "      <th>0</th>\n",
       "      <td>2020</td>\n",
       "      <td>MI</td>\n",
       "      <td>FT</td>\n",
       "      <td>Data Scientist</td>\n",
       "      <td>70000</td>\n",
       "      <td>EUR</td>\n",
       "      <td>79833</td>\n",
       "      <td>DE</td>\n",
       "      <td>0</td>\n",
       "      <td>DE</td>\n",
       "      <td>L</td>\n",
       "    </tr>\n",
       "    <tr>\n",
       "      <th>1</th>\n",
       "      <td>2020</td>\n",
       "      <td>SE</td>\n",
       "      <td>FT</td>\n",
       "      <td>Machine Learning Scientist</td>\n",
       "      <td>260000</td>\n",
       "      <td>USD</td>\n",
       "      <td>260000</td>\n",
       "      <td>JP</td>\n",
       "      <td>0</td>\n",
       "      <td>JP</td>\n",
       "      <td>S</td>\n",
       "    </tr>\n",
       "    <tr>\n",
       "      <th>2</th>\n",
       "      <td>2020</td>\n",
       "      <td>SE</td>\n",
       "      <td>FT</td>\n",
       "      <td>Big Data Engineer</td>\n",
       "      <td>85000</td>\n",
       "      <td>GBP</td>\n",
       "      <td>109024</td>\n",
       "      <td>GB</td>\n",
       "      <td>50</td>\n",
       "      <td>GB</td>\n",
       "      <td>M</td>\n",
       "    </tr>\n",
       "    <tr>\n",
       "      <th>3</th>\n",
       "      <td>2020</td>\n",
       "      <td>MI</td>\n",
       "      <td>FT</td>\n",
       "      <td>Product Data Analyst</td>\n",
       "      <td>20000</td>\n",
       "      <td>USD</td>\n",
       "      <td>20000</td>\n",
       "      <td>HN</td>\n",
       "      <td>0</td>\n",
       "      <td>HN</td>\n",
       "      <td>S</td>\n",
       "    </tr>\n",
       "    <tr>\n",
       "      <th>4</th>\n",
       "      <td>2020</td>\n",
       "      <td>SE</td>\n",
       "      <td>FT</td>\n",
       "      <td>Machine Learning Engineer</td>\n",
       "      <td>150000</td>\n",
       "      <td>USD</td>\n",
       "      <td>150000</td>\n",
       "      <td>US</td>\n",
       "      <td>50</td>\n",
       "      <td>US</td>\n",
       "      <td>L</td>\n",
       "    </tr>\n",
       "  </tbody>\n",
       "</table>\n",
       "</div>"
      ],
      "text/plain": [
       "   work_year experience_level employment_type                   job_title  \\\n",
       "0       2020               MI              FT              Data Scientist   \n",
       "1       2020               SE              FT  Machine Learning Scientist   \n",
       "2       2020               SE              FT           Big Data Engineer   \n",
       "3       2020               MI              FT        Product Data Analyst   \n",
       "4       2020               SE              FT   Machine Learning Engineer   \n",
       "\n",
       "   salary salary_currency  salary_in_usd employee_residence  remote_ratio  \\\n",
       "0   70000             EUR          79833                 DE             0   \n",
       "1  260000             USD         260000                 JP             0   \n",
       "2   85000             GBP         109024                 GB            50   \n",
       "3   20000             USD          20000                 HN             0   \n",
       "4  150000             USD         150000                 US            50   \n",
       "\n",
       "  company_location company_size  \n",
       "0               DE            L  \n",
       "1               JP            S  \n",
       "2               GB            M  \n",
       "3               HN            S  \n",
       "4               US            L  "
      ]
     },
     "execution_count": 17,
     "metadata": {},
     "output_type": "execute_result"
    }
   ],
   "source": [
    "df = pd.read_csv(\"ds_salaries.csv\")\n",
    "df.drop('Unnamed: 0', axis=1, inplace=True)\n",
    "df.head()"
   ]
  },
  {
   "cell_type": "code",
   "execution_count": 134,
   "id": "0c9d5675",
   "metadata": {},
   "outputs": [
    {
     "data": {
      "text/plain": [
       "Index(['work_year', 'experience_level', 'employment_type', 'job_title',\n",
       "       'salary', 'salary_currency', 'salary_in_usd', 'employee_residence',\n",
       "       'remote_ratio', 'company_location', 'company_size'],\n",
       "      dtype='object')"
      ]
     },
     "execution_count": 134,
     "metadata": {},
     "output_type": "execute_result"
    }
   ],
   "source": [
    "df.columns"
   ]
  },
  {
   "cell_type": "markdown",
   "id": "04e2027a",
   "metadata": {},
   "source": [
    "# The audience is me.\n",
    "\n",
    "I am interested in a career as a Data Analyst or a Data Engineer.\n",
    "I have interests in living in the United States, Great Brittan, or Germany.\n",
    "\n",
    "What pay rate can I expect from an entry level job?\n",
    "\n",
    "Can I expect my quality of life to increase, decrease, or stay the same? (Based off cost of living in Logan, Utah)\n",
    "\n",
    "How does employer location effect pay rate?\n"
   ]
  },
  {
   "cell_type": "markdown",
   "id": "31546a5a",
   "metadata": {},
   "source": [
    "For demonstration video: .sort_values(by='salary_in_usd')"
   ]
  },
  {
   "cell_type": "code",
   "execution_count": 156,
   "id": "fedb44d5",
   "metadata": {
    "scrolled": true
   },
   "outputs": [
    {
     "data": {
      "text/html": [
       "<div>\n",
       "<style scoped>\n",
       "    .dataframe tbody tr th:only-of-type {\n",
       "        vertical-align: middle;\n",
       "    }\n",
       "\n",
       "    .dataframe tbody tr th {\n",
       "        vertical-align: top;\n",
       "    }\n",
       "\n",
       "    .dataframe thead th {\n",
       "        text-align: right;\n",
       "    }\n",
       "</style>\n",
       "<table border=\"1\" class=\"dataframe\">\n",
       "  <thead>\n",
       "    <tr style=\"text-align: right;\">\n",
       "      <th></th>\n",
       "      <th>experience_level</th>\n",
       "      <th>job_title</th>\n",
       "      <th>salary_in_usd</th>\n",
       "      <th>employee_residence</th>\n",
       "      <th>company_location</th>\n",
       "    </tr>\n",
       "  </thead>\n",
       "  <tbody>\n",
       "    <tr>\n",
       "      <th>0</th>\n",
       "      <td>MI</td>\n",
       "      <td>Data Scientist</td>\n",
       "      <td>79833</td>\n",
       "      <td>DE</td>\n",
       "      <td>DE</td>\n",
       "    </tr>\n",
       "    <tr>\n",
       "      <th>1</th>\n",
       "      <td>SE</td>\n",
       "      <td>Machine Learning Scientist</td>\n",
       "      <td>260000</td>\n",
       "      <td>JP</td>\n",
       "      <td>JP</td>\n",
       "    </tr>\n",
       "    <tr>\n",
       "      <th>2</th>\n",
       "      <td>SE</td>\n",
       "      <td>Big Data Engineer</td>\n",
       "      <td>109024</td>\n",
       "      <td>GB</td>\n",
       "      <td>GB</td>\n",
       "    </tr>\n",
       "    <tr>\n",
       "      <th>3</th>\n",
       "      <td>MI</td>\n",
       "      <td>Product Data Analyst</td>\n",
       "      <td>20000</td>\n",
       "      <td>HN</td>\n",
       "      <td>HN</td>\n",
       "    </tr>\n",
       "    <tr>\n",
       "      <th>4</th>\n",
       "      <td>SE</td>\n",
       "      <td>Machine Learning Engineer</td>\n",
       "      <td>150000</td>\n",
       "      <td>US</td>\n",
       "      <td>US</td>\n",
       "    </tr>\n",
       "  </tbody>\n",
       "</table>\n",
       "</div>"
      ],
      "text/plain": [
       "  experience_level                   job_title  salary_in_usd  \\\n",
       "0               MI              Data Scientist          79833   \n",
       "1               SE  Machine Learning Scientist         260000   \n",
       "2               SE           Big Data Engineer         109024   \n",
       "3               MI        Product Data Analyst          20000   \n",
       "4               SE   Machine Learning Engineer         150000   \n",
       "\n",
       "  employee_residence company_location  \n",
       "0                 DE               DE  \n",
       "1                 JP               JP  \n",
       "2                 GB               GB  \n",
       "3                 HN               HN  \n",
       "4                 US               US  "
      ]
     },
     "execution_count": 156,
     "metadata": {},
     "output_type": "execute_result"
    }
   ],
   "source": [
    "sub_df = df[['experience_level', 'job_title', 'salary_in_usd', 'employee_residence', 'company_location']]\n",
    "sub_df.head(5)"
   ]
  },
  {
   "cell_type": "markdown",
   "id": "288ef2ea",
   "metadata": {},
   "source": [
    "# What pay rate can I expect from an entry level job?\n",
    "* hourly rate = annual salary / 2080 (assuming a 40hr work week)\n"
   ]
  },
  {
   "cell_type": "code",
   "execution_count": 167,
   "id": "85b1c7d3",
   "metadata": {
    "scrolled": false
   },
   "outputs": [
    {
     "data": {
      "text/html": [
       "<div>\n",
       "<style scoped>\n",
       "    .dataframe tbody tr th:only-of-type {\n",
       "        vertical-align: middle;\n",
       "    }\n",
       "\n",
       "    .dataframe tbody tr th {\n",
       "        vertical-align: top;\n",
       "    }\n",
       "\n",
       "    .dataframe thead th {\n",
       "        text-align: right;\n",
       "    }\n",
       "</style>\n",
       "<table border=\"1\" class=\"dataframe\">\n",
       "  <thead>\n",
       "    <tr style=\"text-align: right;\">\n",
       "      <th></th>\n",
       "      <th>experience_level</th>\n",
       "      <th>job_title</th>\n",
       "      <th>salary_in_usd</th>\n",
       "      <th>employee_residence</th>\n",
       "      <th>company_location</th>\n",
       "    </tr>\n",
       "  </thead>\n",
       "  <tbody>\n",
       "    <tr>\n",
       "      <th>122</th>\n",
       "      <td>EN</td>\n",
       "      <td>Data Analyst</td>\n",
       "      <td>50000</td>\n",
       "      <td>US</td>\n",
       "      <td>US</td>\n",
       "    </tr>\n",
       "    <tr>\n",
       "      <th>172</th>\n",
       "      <td>EN</td>\n",
       "      <td>Data Analyst</td>\n",
       "      <td>60000</td>\n",
       "      <td>US</td>\n",
       "      <td>US</td>\n",
       "    </tr>\n",
       "    <tr>\n",
       "      <th>5</th>\n",
       "      <td>EN</td>\n",
       "      <td>Data Analyst</td>\n",
       "      <td>72000</td>\n",
       "      <td>US</td>\n",
       "      <td>US</td>\n",
       "    </tr>\n",
       "    <tr>\n",
       "      <th>79</th>\n",
       "      <td>EN</td>\n",
       "      <td>Data Analyst</td>\n",
       "      <td>80000</td>\n",
       "      <td>US</td>\n",
       "      <td>US</td>\n",
       "    </tr>\n",
       "    <tr>\n",
       "      <th>118</th>\n",
       "      <td>EN</td>\n",
       "      <td>Data Analyst</td>\n",
       "      <td>90000</td>\n",
       "      <td>US</td>\n",
       "      <td>US</td>\n",
       "    </tr>\n",
       "    <tr>\n",
       "      <th>51</th>\n",
       "      <td>EN</td>\n",
       "      <td>Data Analyst</td>\n",
       "      <td>91000</td>\n",
       "      <td>US</td>\n",
       "      <td>US</td>\n",
       "    </tr>\n",
       "  </tbody>\n",
       "</table>\n",
       "</div>"
      ],
      "text/plain": [
       "    experience_level     job_title  salary_in_usd employee_residence  \\\n",
       "122               EN  Data Analyst          50000                 US   \n",
       "172               EN  Data Analyst          60000                 US   \n",
       "5                 EN  Data Analyst          72000                 US   \n",
       "79                EN  Data Analyst          80000                 US   \n",
       "118               EN  Data Analyst          90000                 US   \n",
       "51                EN  Data Analyst          91000                 US   \n",
       "\n",
       "    company_location  \n",
       "122               US  \n",
       "172               US  \n",
       "5                 US  \n",
       "79                US  \n",
       "118               US  \n",
       "51                US  "
      ]
     },
     "execution_count": 167,
     "metadata": {},
     "output_type": "execute_result"
    }
   ],
   "source": [
    "#Q_One = sub_df[sub_df['experience_level'] == 'EN'][sub_df['employee_residence']=='US'][sub_df['job_title'] == 'Data Analyst']\n",
    "#Q_One.sort_values(by='salary_in_usd')\n",
    "Q_One = sub_df.loc[(sub_df['experience_level'] == 'EN') & (sub_df['employee_residence']=='US') & (sub_df['job_title'] == 'Data Analyst')]\n",
    "Q_One.sort_values(by='salary_in_usd')"
   ]
  },
  {
   "cell_type": "markdown",
   "id": "36f6b4d9",
   "metadata": {},
   "source": [
    "# I had options\n",
    "\n",
    "Could have used:\n",
    "```python\n",
    "Q_One.reset_index(inplace = True)\n",
    "```\n",
    "to reset the reference number.\n",
    "\n",
    "# Benefits:\n",
    "\n",
    "* Easier to pull individual values"
   ]
  },
  {
   "cell_type": "code",
   "execution_count": 178,
   "id": "5793faea",
   "metadata": {},
   "outputs": [
    {
     "data": {
      "text/html": [
       "<div>\n",
       "<style scoped>\n",
       "    .dataframe tbody tr th:only-of-type {\n",
       "        vertical-align: middle;\n",
       "    }\n",
       "\n",
       "    .dataframe tbody tr th {\n",
       "        vertical-align: top;\n",
       "    }\n",
       "\n",
       "    .dataframe thead th {\n",
       "        text-align: right;\n",
       "    }\n",
       "</style>\n",
       "<table border=\"1\" class=\"dataframe\">\n",
       "  <thead>\n",
       "    <tr style=\"text-align: right;\">\n",
       "      <th></th>\n",
       "      <th>experience_level</th>\n",
       "      <th>job_title</th>\n",
       "      <th>salary_in_usd</th>\n",
       "      <th>employee_residence</th>\n",
       "      <th>company_location</th>\n",
       "    </tr>\n",
       "  </thead>\n",
       "  <tbody>\n",
       "    <tr>\n",
       "      <th>4</th>\n",
       "      <td>EN</td>\n",
       "      <td>Data Analyst</td>\n",
       "      <td>50000</td>\n",
       "      <td>US</td>\n",
       "      <td>US</td>\n",
       "    </tr>\n",
       "    <tr>\n",
       "      <th>5</th>\n",
       "      <td>EN</td>\n",
       "      <td>Data Analyst</td>\n",
       "      <td>60000</td>\n",
       "      <td>US</td>\n",
       "      <td>US</td>\n",
       "    </tr>\n",
       "    <tr>\n",
       "      <th>0</th>\n",
       "      <td>EN</td>\n",
       "      <td>Data Analyst</td>\n",
       "      <td>72000</td>\n",
       "      <td>US</td>\n",
       "      <td>US</td>\n",
       "    </tr>\n",
       "    <tr>\n",
       "      <th>2</th>\n",
       "      <td>EN</td>\n",
       "      <td>Data Analyst</td>\n",
       "      <td>80000</td>\n",
       "      <td>US</td>\n",
       "      <td>US</td>\n",
       "    </tr>\n",
       "    <tr>\n",
       "      <th>3</th>\n",
       "      <td>EN</td>\n",
       "      <td>Data Analyst</td>\n",
       "      <td>90000</td>\n",
       "      <td>US</td>\n",
       "      <td>US</td>\n",
       "    </tr>\n",
       "    <tr>\n",
       "      <th>1</th>\n",
       "      <td>EN</td>\n",
       "      <td>Data Analyst</td>\n",
       "      <td>91000</td>\n",
       "      <td>US</td>\n",
       "      <td>US</td>\n",
       "    </tr>\n",
       "  </tbody>\n",
       "</table>\n",
       "</div>"
      ],
      "text/plain": [
       "  experience_level     job_title  salary_in_usd employee_residence  \\\n",
       "4               EN  Data Analyst          50000                 US   \n",
       "5               EN  Data Analyst          60000                 US   \n",
       "0               EN  Data Analyst          72000                 US   \n",
       "2               EN  Data Analyst          80000                 US   \n",
       "3               EN  Data Analyst          90000                 US   \n",
       "1               EN  Data Analyst          91000                 US   \n",
       "\n",
       "  company_location  \n",
       "4               US  \n",
       "5               US  \n",
       "0               US  \n",
       "2               US  \n",
       "3               US  \n",
       "1               US  "
      ]
     },
     "execution_count": 178,
     "metadata": {},
     "output_type": "execute_result"
    }
   ],
   "source": [
    "test_df = sub_df.loc[(sub_df['experience_level'] == 'EN') & (sub_df['employee_residence']=='US') & (sub_df['job_title'] == 'Data Analyst')]\n",
    "test_df.reset_index(drop = True, inplace = True)\n",
    "test_df.sort_values(by='salary_in_usd')"
   ]
  },
  {
   "cell_type": "code",
   "execution_count": 165,
   "id": "eea4c803",
   "metadata": {},
   "outputs": [
    {
     "name": "stdout",
     "output_type": "stream",
     "text": [
      "50000\n"
     ]
    }
   ],
   "source": [
    "print(test_df.iloc[4,2])"
   ]
  },
  {
   "cell_type": "code",
   "execution_count": 170,
   "id": "a3157778",
   "metadata": {},
   "outputs": [
    {
     "data": {
      "text/html": [
       "<div>\n",
       "<style scoped>\n",
       "    .dataframe tbody tr th:only-of-type {\n",
       "        vertical-align: middle;\n",
       "    }\n",
       "\n",
       "    .dataframe tbody tr th {\n",
       "        vertical-align: top;\n",
       "    }\n",
       "\n",
       "    .dataframe thead th {\n",
       "        text-align: right;\n",
       "    }\n",
       "</style>\n",
       "<table border=\"1\" class=\"dataframe\">\n",
       "  <thead>\n",
       "    <tr style=\"text-align: right;\">\n",
       "      <th></th>\n",
       "      <th>experience_level</th>\n",
       "      <th>job_title</th>\n",
       "      <th>salary_in_usd</th>\n",
       "      <th>employee_residence</th>\n",
       "      <th>company_location</th>\n",
       "    </tr>\n",
       "  </thead>\n",
       "  <tbody>\n",
       "    <tr>\n",
       "      <th>122</th>\n",
       "      <td>EN</td>\n",
       "      <td>Data Analyst</td>\n",
       "      <td>50000</td>\n",
       "      <td>US</td>\n",
       "      <td>US</td>\n",
       "    </tr>\n",
       "    <tr>\n",
       "      <th>172</th>\n",
       "      <td>EN</td>\n",
       "      <td>Data Analyst</td>\n",
       "      <td>60000</td>\n",
       "      <td>US</td>\n",
       "      <td>US</td>\n",
       "    </tr>\n",
       "    <tr>\n",
       "      <th>5</th>\n",
       "      <td>EN</td>\n",
       "      <td>Data Analyst</td>\n",
       "      <td>72000</td>\n",
       "      <td>US</td>\n",
       "      <td>US</td>\n",
       "    </tr>\n",
       "    <tr>\n",
       "      <th>79</th>\n",
       "      <td>EN</td>\n",
       "      <td>Data Analyst</td>\n",
       "      <td>80000</td>\n",
       "      <td>US</td>\n",
       "      <td>US</td>\n",
       "    </tr>\n",
       "    <tr>\n",
       "      <th>118</th>\n",
       "      <td>EN</td>\n",
       "      <td>Data Analyst</td>\n",
       "      <td>90000</td>\n",
       "      <td>US</td>\n",
       "      <td>US</td>\n",
       "    </tr>\n",
       "    <tr>\n",
       "      <th>51</th>\n",
       "      <td>EN</td>\n",
       "      <td>Data Analyst</td>\n",
       "      <td>91000</td>\n",
       "      <td>US</td>\n",
       "      <td>US</td>\n",
       "    </tr>\n",
       "  </tbody>\n",
       "</table>\n",
       "</div>"
      ],
      "text/plain": [
       "    experience_level     job_title  salary_in_usd employee_residence  \\\n",
       "122               EN  Data Analyst          50000                 US   \n",
       "172               EN  Data Analyst          60000                 US   \n",
       "5                 EN  Data Analyst          72000                 US   \n",
       "79                EN  Data Analyst          80000                 US   \n",
       "118               EN  Data Analyst          90000                 US   \n",
       "51                EN  Data Analyst          91000                 US   \n",
       "\n",
       "    company_location  \n",
       "122               US  \n",
       "172               US  \n",
       "5                 US  \n",
       "79                US  \n",
       "118               US  \n",
       "51                US  "
      ]
     },
     "execution_count": 170,
     "metadata": {},
     "output_type": "execute_result"
    }
   ],
   "source": [
    "Q_One.sort_values(by='salary_in_usd')"
   ]
  },
  {
   "cell_type": "code",
   "execution_count": 172,
   "id": "5ec0cce6",
   "metadata": {},
   "outputs": [
    {
     "name": "stdout",
     "output_type": "stream",
     "text": [
      "50000\n"
     ]
    }
   ],
   "source": [
    "print(Q_One.iloc[4,2])"
   ]
  },
  {
   "cell_type": "markdown",
   "id": "dbeab05b",
   "metadata": {},
   "source": [
    "# Drawbacks\n",
    "\n",
    "* Wouldn't have been able to pull additional information from the main df as easily\n",
    "* I don't need to pull individual values"
   ]
  },
  {
   "cell_type": "code",
   "execution_count": 176,
   "id": "8c7ff77b",
   "metadata": {},
   "outputs": [
    {
     "name": "stdout",
     "output_type": "stream",
     "text": [
      "50000\n"
     ]
    }
   ],
   "source": [
    "print(sub_df.iloc[122,2])"
   ]
  },
  {
   "cell_type": "code",
   "execution_count": 264,
   "id": "f5cab2be",
   "metadata": {},
   "outputs": [
    {
     "data": {
      "text/plain": [
       "work_year                     2021\n",
       "experience_level                EN\n",
       "employment_type                 FT\n",
       "job_title             Data Analyst\n",
       "salary                       50000\n",
       "salary_currency                USD\n",
       "salary_in_usd                50000\n",
       "employee_residence              US\n",
       "remote_ratio                   100\n",
       "company_location                US\n",
       "company_size                     M\n",
       "Name: 122, dtype: object"
      ]
     },
     "execution_count": 264,
     "metadata": {},
     "output_type": "execute_result"
    }
   ],
   "source": [
    "df.iloc[122]"
   ]
  },
  {
   "cell_type": "code",
   "execution_count": 62,
   "id": "20803dbd",
   "metadata": {},
   "outputs": [
    {
     "data": {
      "text/html": [
       "<div>\n",
       "<style scoped>\n",
       "    .dataframe tbody tr th:only-of-type {\n",
       "        vertical-align: middle;\n",
       "    }\n",
       "\n",
       "    .dataframe tbody tr th {\n",
       "        vertical-align: top;\n",
       "    }\n",
       "\n",
       "    .dataframe thead th {\n",
       "        text-align: right;\n",
       "    }\n",
       "</style>\n",
       "<table border=\"1\" class=\"dataframe\">\n",
       "  <thead>\n",
       "    <tr style=\"text-align: right;\">\n",
       "      <th></th>\n",
       "      <th>salary_in_usd</th>\n",
       "    </tr>\n",
       "  </thead>\n",
       "  <tbody>\n",
       "    <tr>\n",
       "      <th>count</th>\n",
       "      <td>6.000000</td>\n",
       "    </tr>\n",
       "    <tr>\n",
       "      <th>mean</th>\n",
       "      <td>73833.333333</td>\n",
       "    </tr>\n",
       "    <tr>\n",
       "      <th>std</th>\n",
       "      <td>16473.210576</td>\n",
       "    </tr>\n",
       "    <tr>\n",
       "      <th>min</th>\n",
       "      <td>50000.000000</td>\n",
       "    </tr>\n",
       "    <tr>\n",
       "      <th>25%</th>\n",
       "      <td>63000.000000</td>\n",
       "    </tr>\n",
       "    <tr>\n",
       "      <th>50%</th>\n",
       "      <td>76000.000000</td>\n",
       "    </tr>\n",
       "    <tr>\n",
       "      <th>75%</th>\n",
       "      <td>87500.000000</td>\n",
       "    </tr>\n",
       "    <tr>\n",
       "      <th>max</th>\n",
       "      <td>91000.000000</td>\n",
       "    </tr>\n",
       "  </tbody>\n",
       "</table>\n",
       "</div>"
      ],
      "text/plain": [
       "       salary_in_usd\n",
       "count       6.000000\n",
       "mean    73833.333333\n",
       "std     16473.210576\n",
       "min     50000.000000\n",
       "25%     63000.000000\n",
       "50%     76000.000000\n",
       "75%     87500.000000\n",
       "max     91000.000000"
      ]
     },
     "execution_count": 62,
     "metadata": {},
     "output_type": "execute_result"
    }
   ],
   "source": [
    "Q_One.describe()"
   ]
  },
  {
   "cell_type": "markdown",
   "id": "fc7422da",
   "metadata": {},
   "source": [
    "# Can I expect my quality of life to increase, decrease, or stay the same? (Based off cost of living in Logan, Utah)\n",
    "\n",
    "An annual rate of 50,000 equates to an hourly rate of $24: quality of life stays the same\n",
    "\n",
    "An annual rate of 76,000 equates to an hourly rate of $36: quality of life increases\n",
    "\n",
    "\n",
    "# Answer:\n",
    "Assuming the company I work for in the US offers a competitive wage, it is likely that my quality of life will increase by starting a career in Data Analytics. "
   ]
  },
  {
   "cell_type": "markdown",
   "id": "1494c5f4",
   "metadata": {},
   "source": [
    "# How does employee location effect pay rate?"
   ]
  },
  {
   "cell_type": "code",
   "execution_count": 126,
   "id": "e69421e5",
   "metadata": {},
   "outputs": [
    {
     "data": {
      "text/plain": [
       "employee_residence  job_title     experience_level\n",
       "DE                  Data Analyst  SE                   63831.000000\n",
       "GB                  Data Analyst  MI                   50875.600000\n",
       "US                  Data Analyst  EN                   73833.333333\n",
       "                                  EX                  120000.000000\n",
       "                                  MI                   95750.666667\n",
       "                                  SE                  115863.936170\n",
       "Name: salary_in_usd, dtype: float64"
      ]
     },
     "execution_count": 126,
     "metadata": {},
     "output_type": "execute_result"
    }
   ],
   "source": [
    "Q_Two = sub_df.loc[(sub_df['job_title'] == 'Data Analyst') & (sub_df['employee_residence']=='US') | (sub_df['employee_residence']=='GB') & (sub_df['job_title'] == 'Data Analyst') | (sub_df['employee_residence']=='DE') & (sub_df['job_title'] == 'Data Analyst')]\n",
    "Q_Two.groupby(['employee_residence','job_title', 'experience_level'])['salary_in_usd'].mean()"
   ]
  },
  {
   "cell_type": "markdown",
   "id": "381a4808",
   "metadata": {},
   "source": [
    "# Answer\n",
    "\n",
    "If you live in the US you tend to make more money.\n",
    "\n",
    "# Further questions / insights \n",
    "\n",
    "Why is this? \n",
    "\n",
    "Do American companies simply pay better?\n",
    "\n",
    "Of course, they might pay better because:\n",
    "\n",
    "Is the cost of living higher in America?\n"
   ]
  },
  {
   "cell_type": "markdown",
   "id": "4a368e90",
   "metadata": {},
   "source": [
    "# How does employer location effect pay rate?"
   ]
  },
  {
   "cell_type": "code",
   "execution_count": 123,
   "id": "9f7d99d7",
   "metadata": {},
   "outputs": [
    {
     "data": {
      "text/html": [
       "<div>\n",
       "<style scoped>\n",
       "    .dataframe tbody tr th:only-of-type {\n",
       "        vertical-align: middle;\n",
       "    }\n",
       "\n",
       "    .dataframe tbody tr th {\n",
       "        vertical-align: top;\n",
       "    }\n",
       "\n",
       "    .dataframe thead th {\n",
       "        text-align: right;\n",
       "    }\n",
       "</style>\n",
       "<table border=\"1\" class=\"dataframe\">\n",
       "  <thead>\n",
       "    <tr style=\"text-align: right;\">\n",
       "      <th></th>\n",
       "      <th>experience_level</th>\n",
       "      <th>job_title</th>\n",
       "      <th>salary_in_usd</th>\n",
       "      <th>employee_residence</th>\n",
       "      <th>company_location</th>\n",
       "    </tr>\n",
       "  </thead>\n",
       "  <tbody>\n",
       "    <tr>\n",
       "      <th>0</th>\n",
       "      <td>MI</td>\n",
       "      <td>Data Scientist</td>\n",
       "      <td>79833</td>\n",
       "      <td>DE</td>\n",
       "      <td>DE</td>\n",
       "    </tr>\n",
       "    <tr>\n",
       "      <th>1</th>\n",
       "      <td>SE</td>\n",
       "      <td>Machine Learning Scientist</td>\n",
       "      <td>260000</td>\n",
       "      <td>JP</td>\n",
       "      <td>JP</td>\n",
       "    </tr>\n",
       "    <tr>\n",
       "      <th>2</th>\n",
       "      <td>SE</td>\n",
       "      <td>Big Data Engineer</td>\n",
       "      <td>109024</td>\n",
       "      <td>GB</td>\n",
       "      <td>GB</td>\n",
       "    </tr>\n",
       "    <tr>\n",
       "      <th>3</th>\n",
       "      <td>MI</td>\n",
       "      <td>Product Data Analyst</td>\n",
       "      <td>20000</td>\n",
       "      <td>HN</td>\n",
       "      <td>HN</td>\n",
       "    </tr>\n",
       "    <tr>\n",
       "      <th>4</th>\n",
       "      <td>SE</td>\n",
       "      <td>Machine Learning Engineer</td>\n",
       "      <td>150000</td>\n",
       "      <td>US</td>\n",
       "      <td>US</td>\n",
       "    </tr>\n",
       "  </tbody>\n",
       "</table>\n",
       "</div>"
      ],
      "text/plain": [
       "  experience_level                   job_title  salary_in_usd  \\\n",
       "0               MI              Data Scientist          79833   \n",
       "1               SE  Machine Learning Scientist         260000   \n",
       "2               SE           Big Data Engineer         109024   \n",
       "3               MI        Product Data Analyst          20000   \n",
       "4               SE   Machine Learning Engineer         150000   \n",
       "\n",
       "  employee_residence company_location  \n",
       "0                 DE               DE  \n",
       "1                 JP               JP  \n",
       "2                 GB               GB  \n",
       "3                 HN               HN  \n",
       "4                 US               US  "
      ]
     },
     "execution_count": 123,
     "metadata": {},
     "output_type": "execute_result"
    }
   ],
   "source": [
    "sub_df.head()"
   ]
  },
  {
   "cell_type": "code",
   "execution_count": 259,
   "id": "d6126351",
   "metadata": {},
   "outputs": [
    {
     "data": {
      "text/plain": [
       "company_location  job_title   \n",
       "IN                Data Analyst      6072.000000\n",
       "PK                Data Analyst      8000.000000\n",
       "NG                Data Analyst     10000.000000\n",
       "ES                Data Analyst     29098.000000\n",
       "GR                Data Analyst     32313.333333\n",
       "GB                Data Analyst     50875.600000\n",
       "FR                Data Analyst     52930.500000\n",
       "DE                Data Analyst     63831.000000\n",
       "CA                Data Analyst     81487.333333\n",
       "US                Data Analyst    107674.154930\n",
       "Name: salary_in_usd, dtype: float64"
      ]
     },
     "execution_count": 259,
     "metadata": {},
     "output_type": "execute_result"
    }
   ],
   "source": [
    "Q_Three = sub_df.loc[(sub_df['job_title'] == 'Data Analyst')]\n",
    "group_three = Q_Three.groupby(['company_location','job_title'])['salary_in_usd'].mean()\n",
    "group_three.sort_values( ascending = True) #extra step needed to sort groupby in ascending order"
   ]
  },
  {
   "cell_type": "code",
   "execution_count": 260,
   "id": "53a7ae15",
   "metadata": {},
   "outputs": [
    {
     "data": {
      "text/plain": [
       "<AxesSubplot:xlabel='company_location,job_title'>"
      ]
     },
     "execution_count": 260,
     "metadata": {},
     "output_type": "execute_result"
    },
    {
     "data": {
      "image/png": "[encoded data removed]",
      "text/plain": [
       "<Figure size 432x288 with 1 Axes>"
      ]
     },
     "metadata": {
      "needs_background": "light"
     },
     "output_type": "display_data"
    }
   ],
   "source": [
    "#Q_Three.groupby(['company_location','job_title'])['salary_in_usd'].mean().plot.bar(stacked=False)\n",
    "# Don't seem to be able to order the chart without learning matplotlib.\n",
    "#nvm\n",
    "group_three.sort_values( ascending = True).plot.bar(stacked=False)"
   ]
  },
  {
   "cell_type": "markdown",
   "id": "6121f375",
   "metadata": {},
   "source": [
    "# Answer\n",
    "\n",
    "The richer the country the better the pay"
   ]
  },
  {
   "cell_type": "markdown",
   "id": "1f0ee6e7",
   "metadata": {},
   "source": [
    "# What if the employee lives in a different country?\n",
    "\n",
    "* This took a long time\n",
    "* Using .loc it seems you can't compare the string values within two columns\n",
    "* Was learning about using Regex in Pandas to find a solution \n",
    "* I realized Booleans in combination with creating a new column would work"
   ]
  },
  {
   "cell_type": "code",
   "execution_count": 211,
   "id": "4bf715f5",
   "metadata": {},
   "outputs": [
    {
     "name": "stderr",
     "output_type": "stream",
     "text": [
      "<ipython-input-211-4e07243c1483>:2: SettingWithCopyWarning: \n",
      "A value is trying to be set on a copy of a slice from a DataFrame.\n",
      "Try using .loc[row_indexer,col_indexer] = value instead\n",
      "\n",
      "See the caveats in the documentation: https://pandas.pydata.org/pandas-docs/stable/user_guide/indexing.html#returning-a-view-versus-a-copy\n",
      "  Q_Three_sub['dif_local'] = Q_Three_sub['employee_residence'] != Q_Three_sub['company_location']\n"
     ]
    },
    {
     "data": {
      "text/html": [
       "<div>\n",
       "<style scoped>\n",
       "    .dataframe tbody tr th:only-of-type {\n",
       "        vertical-align: middle;\n",
       "    }\n",
       "\n",
       "    .dataframe tbody tr th {\n",
       "        vertical-align: top;\n",
       "    }\n",
       "\n",
       "    .dataframe thead th {\n",
       "        text-align: right;\n",
       "    }\n",
       "</style>\n",
       "<table border=\"1\" class=\"dataframe\">\n",
       "  <thead>\n",
       "    <tr style=\"text-align: right;\">\n",
       "      <th></th>\n",
       "      <th>experience_level</th>\n",
       "      <th>job_title</th>\n",
       "      <th>salary_in_usd</th>\n",
       "      <th>employee_residence</th>\n",
       "      <th>company_location</th>\n",
       "      <th>dif_local</th>\n",
       "    </tr>\n",
       "  </thead>\n",
       "  <tbody>\n",
       "    <tr>\n",
       "      <th>0</th>\n",
       "      <td>MI</td>\n",
       "      <td>Data Scientist</td>\n",
       "      <td>79833</td>\n",
       "      <td>DE</td>\n",
       "      <td>DE</td>\n",
       "      <td>False</td>\n",
       "    </tr>\n",
       "    <tr>\n",
       "      <th>1</th>\n",
       "      <td>SE</td>\n",
       "      <td>Machine Learning Scientist</td>\n",
       "      <td>260000</td>\n",
       "      <td>JP</td>\n",
       "      <td>JP</td>\n",
       "      <td>False</td>\n",
       "    </tr>\n",
       "    <tr>\n",
       "      <th>2</th>\n",
       "      <td>SE</td>\n",
       "      <td>Big Data Engineer</td>\n",
       "      <td>109024</td>\n",
       "      <td>GB</td>\n",
       "      <td>GB</td>\n",
       "      <td>False</td>\n",
       "    </tr>\n",
       "    <tr>\n",
       "      <th>3</th>\n",
       "      <td>MI</td>\n",
       "      <td>Product Data Analyst</td>\n",
       "      <td>20000</td>\n",
       "      <td>HN</td>\n",
       "      <td>HN</td>\n",
       "      <td>False</td>\n",
       "    </tr>\n",
       "    <tr>\n",
       "      <th>4</th>\n",
       "      <td>SE</td>\n",
       "      <td>Machine Learning Engineer</td>\n",
       "      <td>150000</td>\n",
       "      <td>US</td>\n",
       "      <td>US</td>\n",
       "      <td>False</td>\n",
       "    </tr>\n",
       "    <tr>\n",
       "      <th>...</th>\n",
       "      <td>...</td>\n",
       "      <td>...</td>\n",
       "      <td>...</td>\n",
       "      <td>...</td>\n",
       "      <td>...</td>\n",
       "      <td>...</td>\n",
       "    </tr>\n",
       "    <tr>\n",
       "      <th>602</th>\n",
       "      <td>SE</td>\n",
       "      <td>Data Engineer</td>\n",
       "      <td>154000</td>\n",
       "      <td>US</td>\n",
       "      <td>US</td>\n",
       "      <td>False</td>\n",
       "    </tr>\n",
       "    <tr>\n",
       "      <th>603</th>\n",
       "      <td>SE</td>\n",
       "      <td>Data Engineer</td>\n",
       "      <td>126000</td>\n",
       "      <td>US</td>\n",
       "      <td>US</td>\n",
       "      <td>False</td>\n",
       "    </tr>\n",
       "    <tr>\n",
       "      <th>604</th>\n",
       "      <td>SE</td>\n",
       "      <td>Data Analyst</td>\n",
       "      <td>129000</td>\n",
       "      <td>US</td>\n",
       "      <td>US</td>\n",
       "      <td>False</td>\n",
       "    </tr>\n",
       "    <tr>\n",
       "      <th>605</th>\n",
       "      <td>SE</td>\n",
       "      <td>Data Analyst</td>\n",
       "      <td>150000</td>\n",
       "      <td>US</td>\n",
       "      <td>US</td>\n",
       "      <td>False</td>\n",
       "    </tr>\n",
       "    <tr>\n",
       "      <th>606</th>\n",
       "      <td>MI</td>\n",
       "      <td>AI Scientist</td>\n",
       "      <td>200000</td>\n",
       "      <td>IN</td>\n",
       "      <td>US</td>\n",
       "      <td>True</td>\n",
       "    </tr>\n",
       "  </tbody>\n",
       "</table>\n",
       "<p>607 rows × 6 columns</p>\n",
       "</div>"
      ],
      "text/plain": [
       "    experience_level                   job_title  salary_in_usd  \\\n",
       "0                 MI              Data Scientist          79833   \n",
       "1                 SE  Machine Learning Scientist         260000   \n",
       "2                 SE           Big Data Engineer         109024   \n",
       "3                 MI        Product Data Analyst          20000   \n",
       "4                 SE   Machine Learning Engineer         150000   \n",
       "..               ...                         ...            ...   \n",
       "602               SE               Data Engineer         154000   \n",
       "603               SE               Data Engineer         126000   \n",
       "604               SE                Data Analyst         129000   \n",
       "605               SE                Data Analyst         150000   \n",
       "606               MI                AI Scientist         200000   \n",
       "\n",
       "    employee_residence company_location  dif_local  \n",
       "0                   DE               DE      False  \n",
       "1                   JP               JP      False  \n",
       "2                   GB               GB      False  \n",
       "3                   HN               HN      False  \n",
       "4                   US               US      False  \n",
       "..                 ...              ...        ...  \n",
       "602                 US               US      False  \n",
       "603                 US               US      False  \n",
       "604                 US               US      False  \n",
       "605                 US               US      False  \n",
       "606                 IN               US       True  \n",
       "\n",
       "[607 rows x 6 columns]"
      ]
     },
     "execution_count": 211,
     "metadata": {},
     "output_type": "execute_result"
    }
   ],
   "source": [
    "Q_Three_sub = df[['experience_level', 'job_title', 'salary_in_usd', 'employee_residence', 'company_location']]\n",
    "Q_Three_sub['dif_local'] = Q_Three_sub['employee_residence'] != Q_Three_sub['company_location']\n",
    "Q_Three_sub \n",
    "#Q_Three_sub.loc[(sub_df['job_title'] == 'Data Analyst')]"
   ]
  },
  {
   "cell_type": "markdown",
   "id": "b3cab166",
   "metadata": {},
   "source": [
    "# If company employees forigner"
   ]
  },
  {
   "cell_type": "code",
   "execution_count": 262,
   "id": "292dc076",
   "metadata": {},
   "outputs": [
    {
     "data": {
      "text/plain": [
       "company_location  job_title    \n",
       "GB                Data Engineer    71427.5\n",
       "US                Data Engineer    58935.0\n",
       "DE                Data Engineer    56388.5\n",
       "Name: salary_in_usd, dtype: float64"
      ]
     },
     "execution_count": 262,
     "metadata": {},
     "output_type": "execute_result"
    }
   ],
   "source": [
    "group_three_sub = Q_Three_sub.loc[(Q_Three_sub['dif_local'] == True) & (Q_Three_sub['job_title'] == 'Data Engineer')].groupby(['company_location','job_title'])['salary_in_usd'].mean()\n",
    "group_three_sub.sort_values( ascending = False)"
   ]
  },
  {
   "cell_type": "markdown",
   "id": "899155e0",
   "metadata": {},
   "source": [
    "# If company employees local "
   ]
  },
  {
   "cell_type": "code",
   "execution_count": 263,
   "id": "328a243e",
   "metadata": {},
   "outputs": [
    {
     "data": {
      "text/plain": [
       "company_location  job_title    \n",
       "US                Data Engineer    139724.682353\n",
       "GB                Data Engineer     80305.750000\n",
       "DE                Data Engineer     58186.750000\n",
       "Name: salary_in_usd, dtype: float64"
      ]
     },
     "execution_count": 263,
     "metadata": {},
     "output_type": "execute_result"
    }
   ],
   "source": [
    "#Q_Three = sub_df.loc[(sub_df['job_title'] == 'Data Analyst')]\n",
    "group_three_sub_two= sub_df.loc[(sub_df['job_title'] == 'Data Engineer') & (sub_df['company_location'] == 'US') | (sub_df['job_title'] == 'Data Engineer') & (sub_df['company_location'] == 'GB') | (sub_df['job_title'] == 'Data Engineer') & (sub_df['company_location'] == 'DE')].groupby(['company_location','job_title'])['salary_in_usd'].mean()\n",
    "group_three_sub_two.sort_values( ascending = False)"
   ]
  },
  {
   "cell_type": "markdown",
   "id": "f16caee0",
   "metadata": {},
   "source": [
    "If I wanted to save this modified file?\n",
    "CSV file:\n",
    "``` python\n",
    "sub_df.to_csv('mod_ds_salaries.csv')\n",
    "```\n",
    "Excel file:\n",
    "``` python\n",
    "sub_df.to_excel('mod_ds_salaries.xlsx')\n",
    "```\n",
    "Text file (Tab separated):\n",
    "```python\n",
    "sub_df.to_csv('mod_ds_salaries.txt', sep = '\\t')\n",
    "```\n",
    "\n",
    "What if I expected to need to modify this file again in the future, and wanted to ensure that I wouldn't have to delete an extra reference column again?\n",
    "Just add:\n",
    "``` python\n",
    "index = False\n",
    "```\n",
    "Example:\n",
    "``` python\n",
    "sub_df.to_csv('mod_ds_salaries.csv', index = False)\n",
    "```"
   ]
  }
 ],
 "metadata": {
  "kernelspec": {
   "display_name": "Python 3",
   "language": "python",
   "name": "python3"
  },
  "language_info": {
   "codemirror_mode": {
    "name": "ipython",
    "version": 3
   },
   "file_extension": ".py",
   "mimetype": "text/x-python",
   "name": "python",
   "nbconvert_exporter": "python",
   "pygments_lexer": "ipython3",
   "version": "3.8.8"
  }
 },
 "nbformat": 4,
 "nbformat_minor": 5
}
